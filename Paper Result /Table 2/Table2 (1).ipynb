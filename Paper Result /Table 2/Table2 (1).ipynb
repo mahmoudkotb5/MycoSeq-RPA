{
  "nbformat": 4,
  "nbformat_minor": 0,
  "metadata": {
    "colab": {
      "provenance": []
    },
    "kernelspec": {
      "name": "python3",
      "display_name": "Python 3"
    },
    "language_info": {
      "name": "python"
    }
  },
  "cells": [
    {
      "cell_type": "code",
      "source": [
        "!pip install biopython"
      ],
      "metadata": {
        "colab": {
          "base_uri": "https://localhost:8080/"
        },
        "id": "UvSP2XwDiUmh",
        "outputId": "a696c31e-1276-47fd-b7c2-7a4d59ed0b50"
      },
      "execution_count": 2,
      "outputs": [
        {
          "output_type": "stream",
          "name": "stdout",
          "text": [
            "Collecting biopython\n",
            "  Downloading biopython-1.85-cp312-cp312-manylinux_2_17_x86_64.manylinux2014_x86_64.whl.metadata (13 kB)\n",
            "Requirement already satisfied: numpy in /usr/local/lib/python3.12/dist-packages (from biopython) (2.0.2)\n",
            "Downloading biopython-1.85-cp312-cp312-manylinux_2_17_x86_64.manylinux2014_x86_64.whl (3.3 MB)\n",
            "\u001b[2K   \u001b[90m━━━━━━━━━━━━━━━━━━━━━━━━━━━━━━━━━━━━━━━━\u001b[0m \u001b[32m3.3/3.3 MB\u001b[0m \u001b[31m33.9 MB/s\u001b[0m eta \u001b[36m0:00:00\u001b[0m\n",
            "\u001b[?25hInstalling collected packages: biopython\n",
            "Successfully installed biopython-1.85\n"
          ]
        }
      ]
    },
    {
      "cell_type": "code",
      "execution_count": 5,
      "metadata": {
        "id": "IEQMr6ebYlCd",
        "colab": {
          "base_uri": "https://localhost:8080/"
        },
        "outputId": "ef92ea04-1ce5-4684-f328-56f627540690"
      },
      "outputs": [
        {
          "output_type": "stream",
          "name": "stdout",
          "text": [
            "         Name                                       Description                                           Fragments\n",
            "   AP022572.1                AP022572.1  Mycobacterium shottsii                              [452, 700, 1100, 2042]\n",
            " NZ_LR882499.              NZ_LR882499. 1 Mycobacterium microti               [95, 110, 198, 311, 1190, 1400, 1740]\n",
            "NZ_AP022568.1                NZ_AP022568.1 Mycobacterium simiae                         [199, 209, 929, 1342, 2034]\n",
            "NZ_CP033688.1      NZ_CP033688.1 Mycobacterium paratuberculosis                        [129, 350, 1140, 1626, 1748]\n",
            "NZ_CP018019.1                 NZ_CP018019.1 Mycobacterium avium                        [228, 308, 1140, 1627, 1749]\n",
            "  NC_015758.1               NC_015758.1 Mycobacterium africanum                [96, 110, 200, 331, 940, 1545, 1768]\n",
            "NZ_CP016401.1                NZ_CP016401.1 Mycobacterium caprae               [96, 109, 232, 251, 1130, 1300, 1768]\n",
            "  NC_015848.1                NC_015848.1 Mycobacterium canettii               [96, 110, 198, 232, 1139, 1346, 1840]\n",
            "NZ_CP039850.1                 NZ_CP039850.1 Mycobacterium bovis               [96, 110, 198, 232, 1139, 1520, 1700]\n",
            "   AP022590.1                 AP022590.1 Mycobacterium mantenii                             [308, 1341, 1346, 1750]\n",
            "   AP024310.1           AP024310.1 Mycobacterium heckeshornense                 [77, 349, 525, 545, 929, 957, 1348]\n",
            "   CP023147.1             CP023147.1 Mycobacterium marseillense                             [855, 1201, 1342, 1349]\n",
            "  NC_000962.3            NC_000962.3 Mycobacterium tuberculosis               [96, 110, 198, 211, 1139, 1248, 1768]\n",
            "  NC_008726.1         NC_008726.1 Mycolicibacterium vanbaalenii          [156, 172, 252, 382, 515, 929, 1114, 1345]\n",
            "  NC_014814.1              NC_014814.1 Mycolicibacterium gilvum      [156, 170, 250, 381, 546, 630, 715, 929, 1085]\n",
            "  NC_015576.1               NC_015576.1 Mycolicibacter sinensis                     [420, 537, 630, 930, 964, 1471]\n",
            "NZ_AP018164.1             NZ_AP018164.1 Mycobacterium shigaense                    [199, 209, 371, 929, 1343, 1650]\n",
            "NZ_AP018165.1       NZ_AP018165.1 Mycobacterium stephanolepidis [96, 113, 156, 194, 250, 326, 639, 815, 1051, 1111]\n",
            "NZ_AP022569.1                NZ_AP022569.1 Mycobacterium cookii                    [109, 423, 592, 928, 1346, 1379]\n",
            "NZ_AP022575.1          NZ_AP022575.1 Mycobacterium shinjukuense                        [110, 198, 1344, 1349, 1759]\n",
            "NZ_AP022576.1           NZ_AP022576.1 Mycobacterium florentinum                         [306, 408, 929, 1340, 1726]\n",
            "NZ_AP022581.1                 NZ_AP022581.1 Mycobacterium lacus                   [209, 308, 430, 1140, 1338, 1344]\n",
            "NZ_AP022583.1          NZ_AP022583.1 Mycobacterium noviomagense                    [381, 427, 547, 930, 1108, 1345]\n",
            "NZ_AP022586.1          NZ_AP022586.1 Mycolicibacterium litorale               [156, 251, 381, 721, 928, 1122, 1344]\n",
            "NZ_AP022587.1           NZ_AP022587.1 Mycobacterium stomatepiae                              [408, 929, 1340, 2034]\n",
            "NZ_AP022606.1              NZ_AP022606.1 Mycobacterium branderi            [52, 257, 423, 525, 539, 651, 928, 1346]\n",
            "NZ_AP022613.1            NZ_AP022613.1 Mycobacterium conspicuum                         [95, 209, 1139, 1248, 2039]\n",
            "NZ_AP022614.1              NZ_AP022614.1 Mycobacterium parmense                    [199, 210, 306, 929, 1340, 1739]\n",
            "NZ_AP022617.1         NZ_AP022617.1 Mycolicibacterium monacense       [72, 79, 156, 252, 380, 715, 927, 1046, 1266]\n",
            "NZ_AP024251.1    NZ_AP024251.1 Mycobacterium paraintracellulare                     [308, 452, 854, 889, 893, 1349]\n",
            "NZ_AP024828.1             NZ_AP024828.1 Mycobacterium senriense                         [308, 856, 893, 1341, 1349]\n",
            "NZ_CP007220.1            NZ_CP007220.1 Mycobacteroides chelonae      [96, 156, 194, 250, 327, 637, 928, 1051, 1111]\n",
            "NZ_CP011269.1         NZ_CP011269.1 Mycolicibacterium fortuitum       [73, 156, 250, 384, 426, 617, 624, 929, 1345]\n",
            "NZ_CP011491.1           NZ_CP011491.1  Mycolicibacterium vaccae  [75, 156, 170, 252, 381, 529, 630, 640, 929, 1114]\n",
            "NZ_CP011530.1        NZ_CP011530.1  Mycobacteroides immunogenum           [94, 156, 194, 250, 928, 979, 1051, 1111]\n",
            "NZ_CP011883.2           NZ_CP011883.2 Mycobacterium haemophilum                             [210, 1140, 1344, 2079]\n",
            "NZ_CP020809.1      NZ_CP020809.1 Mycobacterium dioxanotrophicus      [156, 210, 250, 382, 426, 434, 692, 929, 1347]\n",
            "NZ_CP029543.1                NZ_CP029543.1 Mycobacterium leprae                        [223, 562, 1140, 1344, 1508]\n",
            "NZ_CP034181.1           NZ_CP034181.1 Mycobacteroides abscessus      [95, 156, 194, 250, 327, 640, 928, 1051, 1111]\n",
            "NZ_CP046600.1              NZ_CP046600.1 Mycobacterium spongiae                        [211, 308, 1140, 1344, 1749]\n",
            "NZ_CP054795.1         NZ_CP054795.1 Mycolicibacterium smegmatis           [73, 156, 254, 383, 652, 929, 1044, 1347]\n",
            "NZ_CP058277.1               NZ_CP058277.1 Mycobacterium marinum                              [350, 892, 1348, 1500]\n",
            "NZ_CP070349.1          NZ_CP070349.1 Mycolicibacterium septicum           [73, 156, 250, 426, 620, 929, 1038, 1345]\n",
            "NZ_CP074376.1          NZ_CP074376.1 Mycolicibacterium neoaurum                    [156, 188, 250, 928, 1344, 2009]\n",
            "NZ_CP080333.1           NZ_CP080333.1 Mycolicibacterium pallens                    [368, 381, 640, 929, 1117, 1343]\n",
            "   CP080997.1          CP080997.1 Mycolicibacter heraklionensis                [113, 421, 534, 642, 817, 966, 1345]\n",
            "NZ_CP080998.1        NZ_CP080998.1 Mycolicibacterium holsaticum       [190, 382, 408, 426, 479, 630, 650, 718, 928]\n",
            "NZ_CP080999.1             NZ_CP080999.1 Mycobacterium malmoense                        [209, 308, 1140, 1344, 1720]\n",
            "NZ_CP083405.1          NZ_CP083405.1 Mycobacterium lepromatosis                        [225, 378, 1141, 1344, 1694]\n",
            "NZ_CP085200.1             NZ_CP085200.1  Mycobacterium ulcerans                              [452, 892, 1348, 2043]\n",
            "NZ_CP085945.1        NZ_CP085945.1 Mycobacterium intracellulare                     [308, 451, 854, 889, 980, 1345]\n",
            "NZ_CP092364.2            NZ_CP092364.2 Mycolicibacterium goodii      [73, 156, 254, 321, 339, 385, 929, 1042, 1343]\n",
            "NZ_CP092427.2             NZ_CP092427.2 Mycolicibacterium rufum            [79, 383, 406, 630, 636, 690, 929, 1115]\n",
            "NZ_CP092488.2            NZ_CP092488.2 Mycobacterium paraterrae                     [79, 422, 596, 928, 1268, 1488]\n",
            "NZ_LR026975.1         NZ_LR026975.1 Mycolicibacterium hassiacum   [52, 75, 156, 182, 258, 382, 640, 796, 928, 1343]\n",
            "NZ_LR130759.1            NZ_LR130759.1 Mycobacterium basiliense                         [308, 452, 892, 1347, 1742]\n",
            "NZ_LT629971.1           NZ_LT629971.1 Mycolicibacterium rutilum       [156, 250, 357, 383, 630, 648, 715, 763, 929]\n",
            "NZ_LT906483.1 NZ_LT906483.1 Mycolicibacterium thermoresistibile           [156, 257, 307, 381, 618, 666, 928, 1347]\n",
            "NZ_CP070973.1              NZ_CP070973.1 Mycobacterium gordonae                        [229, 340, 1090, 1526, 1742]\n"
          ]
        }
      ],
      "source": [
        "from Bio.Seq import Seq\n",
        "from Bio.Restriction import *\n",
        "from Bio import SeqIO\n",
        "import pandas as pd\n",
        "\n",
        "results = []\n",
        "\n",
        "for h in AllEnzymes:\n",
        "    FASTAFILE = SeqIO.parse(\"75 species target.fasta\", 'fasta')\n",
        "    for fasta in FASTAFILE:\n",
        "        sorttt = []\n",
        "        desc, NAME, SEQUENCE = str(fasta.description), str(fasta.name), str(fasta.seq)\n",
        "        try:\n",
        "            g = Tsp45I.catalyze(Seq(SEQUENCE))   # still using Tsp45I\n",
        "            if len(g) < 2:\n",
        "                continue\n",
        "            for f in g:\n",
        "                if len(f) not in sorttt and len(f) >= 50:\n",
        "                    sorttt.append(len(f))\n",
        "            sorttt.sort()\n",
        "\n",
        "            # store result in list of dicts\n",
        "            results.append({\n",
        "                \"Name\": NAME,\n",
        "                \"Description\": desc,\n",
        "                \"Fragments\": sorttt\n",
        "            })\n",
        "        except:\n",
        "            pass\n",
        "    break   # keeps only the first enzyme\n",
        "\n",
        "# Convert to DataFrame\n",
        "df = pd.DataFrame(results)\n",
        "\n",
        "# Print DataFrame\n",
        "print(df.to_string(index=False))\n",
        "\n",
        "# Optional: save to Excel or CSV\n",
        "# df.to_excel(\"fragments_results.xlsx\", index=False)\n",
        "# df.to_csv(\"fragments_results.csv\", index=False)"
      ]
    },
    {
      "cell_type": "code",
      "source": [
        "from Bio.Seq import Seq\n",
        "from Bio.Restriction import *\n",
        "from Bio import SeqIO\n",
        "import pandas as pd\n",
        "\n",
        "results = []\n",
        "\n",
        "for h in AllEnzymes:\n",
        "    FASTAFILE = SeqIO.parse(\"18.fasta\", 'fasta')\n",
        "    for fasta in FASTAFILE:\n",
        "        sorttt = []\n",
        "        desc, NAME, SEQUENCE = str(fasta.description), str(fasta.name), str(fasta.seq)\n",
        "        try:\n",
        "            g = BsaWI.catalyze(Seq(SEQUENCE))   # still using Tsp45I\n",
        "            if len(g) < 2:\n",
        "                continue\n",
        "            for f in g:\n",
        "                if len(f) not in sorttt and len(f) >= 50:\n",
        "                    sorttt.append(len(f))\n",
        "            sorttt.sort()\n",
        "\n",
        "            # store result in list of dicts\n",
        "            results.append({\n",
        "                \"Name\": NAME,\n",
        "                \"Description\": desc,\n",
        "                \"Fragments\": sorttt\n",
        "            })\n",
        "        except:\n",
        "            pass\n",
        "    break   # keeps only the first enzyme\n",
        "\n",
        "# Convert to DataFrame\n",
        "df = pd.DataFrame(results)\n",
        "\n",
        "# Print DataFrame\n",
        "print(df.to_string(index=False))\n",
        "\n",
        "# Optional: save to Excel or CSV\n",
        "# df.to_excel(\"fragments_results.xlsx\", index=False)\n",
        "# df.to_csv(\"fragments_results.csv\", index=False)"
      ],
      "metadata": {
        "colab": {
          "base_uri": "https://localhost:8080/"
        },
        "id": "cRSzu2ediPI0",
        "outputId": "cf029e01-39b8-4145-fbc8-a59013524b9d"
      },
      "execution_count": 4,
      "outputs": [
        {
          "output_type": "stream",
          "name": "stdout",
          "text": [
            "             Name                                   Description                                  Fragments\n",
            "    NZ_AP022576.1       NZ_AP022576.1 Mycobacterium florentinum                 [123, 164, 361, 798, 3263]\n",
            "    NZ_CP081673.1  NZ_CP081673.1 Mycolicibacterium farcinogenes [121, 164, 195, 361, 554, 799, 1115, 1495]\n",
            "    NZ_CP038799.1 NZ_CP038799.1 Mycobacterium frederiksbergense           [164, 482, 554, 801, 1428, 1464]\n",
            "    NZ_CP011269.1     NZ_CP011269.1 Mycolicibacterium fortuitum [116, 164, 193, 482, 554, 799, 1115, 1381]\n",
            "    NZ_AP022615.1    NZ_AP022615.1 Mycobacterium heidelbergense  [164, 225, 360, 471, 484, 554, 799, 1629]\n",
            "      NC_022663.1            NC_022663.1 Mycobacterium kansasii [123, 164, 225, 360, 373, 798, 1063, 1631]\n",
            "    NZ_CP045081.1           NZ_CP045081.1 Mycobacterium kubicae  [123, 164, 225, 361, 554, 799, 866, 1639]\n",
            "    NZ_AP022567.1   NZ_AP022567.1 Mycolicibacterium mageritense       [65, 153, 164, 479, 801, 1492, 1667]\n",
            "    NZ_CP062008.1   NZ_CP062008.1 Mycolicibacterium mucogenicum  [164, 303, 344, 482, 554, 770, 798, 1466]\n",
            "    NZ_AP022562.1             NZ_AP022562.1 Mycobacterium novum  [123, 163, 374, 540, 755, 797, 914, 1168]\n",
            "NZ_LDPP01000006.1  NZ_LDPP01000006.1  Mycobacterium nebraskense                 [123, 164, 361, 798, 2263]\n",
            "    NZ_CP089224.1       NZ_CP089224.1 Mycobacterium ostraviense      [123, 164, 225, 373, 798, 1421, 1643]\n",
            "    NZ_CP025546.1      NZ_CP025546.1 Mycobacterium paragordonae                 [164, 494, 554, 799, 2724]\n",
            "    NZ_AP022582.1         NZ_AP022582.1 Mycobacterium seoulense                [164, 495, 798, 1420, 1859]\n",
            "    NZ_AP022573.1  NZ_AP022573.1 Mycobacterium saskatchewanense [123, 164, 225, 361, 396, 799, 1022, 1627]\n",
            "    NZ_CP081000.1   NZ_CP081000.1 Mycolicibacterium senegalense  [121, 164, 195, 460, 554, 798, 958, 1510]\n",
            "    NZ_AP022619.1     NZ_AP022619.1 Mycobacterium paraseoulense                 [95, 495, 798, 1350, 1858]\n",
            "    NZ_CP059165.1    NZ_CP059165.1 Mycobacterium vicinigordonae       [121, 164, 373, 471, 554, 799, 2264]\n"
          ]
        }
      ]
    }
  ]
}